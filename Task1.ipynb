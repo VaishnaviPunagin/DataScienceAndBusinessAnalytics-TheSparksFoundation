{
  "nbformat": 4,
  "nbformat_minor": 0,
  "metadata": {
    "colab": {
      "name": "Task1.ipynb",
      "provenance": []
    },
    "kernelspec": {
      "name": "python3",
      "display_name": "Python 3"
    }
  },
  "cells": [
    {
      "cell_type": "markdown",
      "metadata": {
        "id": "RMqYNL9Cwmtk"
      },
      "source": [
        "# Prediction using Supervised ML - The Percentage of a Student based on Number of Study Hours!\r\n"
      ]
    },
    {
      "cell_type": "markdown",
      "metadata": {
        "id": "DBnCnND-C1UV"
      },
      "source": [
        "**Vaishnavi A Punagin~**"
      ]
    },
    {
      "cell_type": "markdown",
      "metadata": {
        "id": "B1NUvrIsD23-"
      },
      "source": [
        "Let us look at some theory before diving into stydying data and working on the code!"
      ]
    },
    {
      "cell_type": "markdown",
      "metadata": {
        "id": "VY36bCRzmwhS"
      },
      "source": [
        "**Supervised Machine Learning:** Modles are trained using labelled data, they require supervision to be trained right!\r\n",
        "\r\n",
        "**Unsupervised Machine Learning:** Extraction of features and patterns happens as it unlabeled data is used in this case!\r\n",
        "\r\n",
        "**Linear Regression:** Linear regression is a statistical method for modelling a relationship between some dependent variable with a set of given independent variables.\r\n",
        " \r\n",
        "The overall idea of regression is to examine two things: \r\n",
        "> does a set of predictor variables do a good job in predicting an outcome (dependent) variable?\r\n",
        "\r\n",
        "> Which variables in are important predictors of the outcome variable, and in what way do they–indicated by the magnitude and sign of the beta estimates–impact the outcome variable?"
      ]
    },
    {
      "cell_type": "markdown",
      "metadata": {
        "id": "AFuArn1KkXSg"
      },
      "source": [
        "#Importing the modules + Pulling in the data\r\n",
        "The pandas module runs on top of NumPy and it is popularly used for data science and data analytics!\r\n",
        "\r\n",
        "We bring in the matplotlib.pyplot module to visualize and present the data in an easier, efficient pictorial manner!\r\n",
        "\r\n",
        "We import our data from the given link and save it into a .csv file for further processing later."
      ]
    },
    {
      "cell_type": "code",
      "metadata": {
        "colab": {
          "base_uri": "https://localhost:8080/",
          "height": 359
        },
        "id": "abCerOjqvG-8",
        "outputId": "9afb0fdb-a8a9-4543-9955-e3a1c2126983"
      },
      "source": [
        "import pandas as pd\r\n",
        "import numpy as np  \r\n",
        "import matplotlib.pyplot as plt  \r\n",
        "%matplotlib inline\r\n",
        "\r\n",
        "\r\n",
        "link=\"https://raw.githubusercontent.com/AdiPersonalWorks/Random/master/student_scores%20-%20student_scores.csv\"\r\n",
        "data=pd.read_csv(link)\r\n",
        "data.head(10)"
      ],
      "execution_count": 2,
      "outputs": [
        {
          "output_type": "execute_result",
          "data": {
            "text/html": [
              "<div>\n",
              "<style scoped>\n",
              "    .dataframe tbody tr th:only-of-type {\n",
              "        vertical-align: middle;\n",
              "    }\n",
              "\n",
              "    .dataframe tbody tr th {\n",
              "        vertical-align: top;\n",
              "    }\n",
              "\n",
              "    .dataframe thead th {\n",
              "        text-align: right;\n",
              "    }\n",
              "</style>\n",
              "<table border=\"1\" class=\"dataframe\">\n",
              "  <thead>\n",
              "    <tr style=\"text-align: right;\">\n",
              "      <th></th>\n",
              "      <th>Hours</th>\n",
              "      <th>Scores</th>\n",
              "    </tr>\n",
              "  </thead>\n",
              "  <tbody>\n",
              "    <tr>\n",
              "      <th>0</th>\n",
              "      <td>2.5</td>\n",
              "      <td>21</td>\n",
              "    </tr>\n",
              "    <tr>\n",
              "      <th>1</th>\n",
              "      <td>5.1</td>\n",
              "      <td>47</td>\n",
              "    </tr>\n",
              "    <tr>\n",
              "      <th>2</th>\n",
              "      <td>3.2</td>\n",
              "      <td>27</td>\n",
              "    </tr>\n",
              "    <tr>\n",
              "      <th>3</th>\n",
              "      <td>8.5</td>\n",
              "      <td>75</td>\n",
              "    </tr>\n",
              "    <tr>\n",
              "      <th>4</th>\n",
              "      <td>3.5</td>\n",
              "      <td>30</td>\n",
              "    </tr>\n",
              "    <tr>\n",
              "      <th>5</th>\n",
              "      <td>1.5</td>\n",
              "      <td>20</td>\n",
              "    </tr>\n",
              "    <tr>\n",
              "      <th>6</th>\n",
              "      <td>9.2</td>\n",
              "      <td>88</td>\n",
              "    </tr>\n",
              "    <tr>\n",
              "      <th>7</th>\n",
              "      <td>5.5</td>\n",
              "      <td>60</td>\n",
              "    </tr>\n",
              "    <tr>\n",
              "      <th>8</th>\n",
              "      <td>8.3</td>\n",
              "      <td>81</td>\n",
              "    </tr>\n",
              "    <tr>\n",
              "      <th>9</th>\n",
              "      <td>2.7</td>\n",
              "      <td>25</td>\n",
              "    </tr>\n",
              "  </tbody>\n",
              "</table>\n",
              "</div>"
            ],
            "text/plain": [
              "   Hours  Scores\n",
              "0    2.5      21\n",
              "1    5.1      47\n",
              "2    3.2      27\n",
              "3    8.5      75\n",
              "4    3.5      30\n",
              "5    1.5      20\n",
              "6    9.2      88\n",
              "7    5.5      60\n",
              "8    8.3      81\n",
              "9    2.7      25"
            ]
          },
          "metadata": {
            "tags": []
          },
          "execution_count": 2
        }
      ]
    },
    {
      "cell_type": "markdown",
      "metadata": {
        "id": "FoJb0t4QNwkg"
      },
      "source": [
        "Now, we plot this given data into a two-dimensional (2D) graph to be able to draw some relation among the Number of Hours studied and the Scores Scored by the student!"
      ]
    },
    {
      "cell_type": "code",
      "metadata": {
        "colab": {
          "base_uri": "https://localhost:8080/",
          "height": 312
        },
        "id": "ZswV51P7rEno",
        "outputId": "dac98099-3968-4400-b5ef-5b031eff678e"
      },
      "source": [
        "plt.scatter(data.Hours,data.Scores,c='red')\r\n",
        "plt.xlabel('Number of Hours Studied')\r\n",
        "plt.ylabel('Scores scored')\r\n",
        "plt.title('Relation Between Hours & Scores')"
      ],
      "execution_count": 3,
      "outputs": [
        {
          "output_type": "execute_result",
          "data": {
            "text/plain": [
              "Text(0.5, 1.0, 'Relation Between Hours & Scores')"
            ]
          },
          "metadata": {
            "tags": []
          },
          "execution_count": 3
        },
        {
          "output_type": "display_data",
          "data": {
            "image/png": "[encoded data removed]",
            "text/plain": [
              "<Figure size 432x288 with 1 Axes>"
            ]
          },
          "metadata": {
            "tags": [],
            "needs_background": "light"
          }
        }
      ]
    },
    {
      "cell_type": "markdown",
      "metadata": {
        "id": "bmGoCACJkZ9J"
      },
      "source": [
        "After a single look at the plot, we establish that the Scores are directly proportional to the Number of Hours put in by a student!"
      ]
    },
    {
      "cell_type": "markdown",
      "metadata": {
        "id": "4SclFCS_lCIP"
      },
      "source": [
        "#Preparing the data for training\r\n",
        "We divide the data into - inputs and outputs, called the attributes and labels respectively."
      ]
    },
    {
      "cell_type": "code",
      "metadata": {
        "id": "vaRcWmJ8liuV"
      },
      "source": [
        "x=data.drop(columns='Scores')\r\n",
        "y=data.drop(columns='Hours')\r\n",
        "from sklearn.model_selection import train_test_split  \r\n",
        "X_train, X_test, y_train, y_test = train_test_split(x, y, test_size=0.2, random_state=0)"
      ],
      "execution_count": 4,
      "outputs": []
    },
    {
      "cell_type": "markdown",
      "metadata": {
        "id": "W83iqJ_umCRF"
      },
      "source": [
        "#Training the Algorithm - Using Linear Regression\r\n"
      ]
    },
    {
      "cell_type": "code",
      "metadata": {
        "colab": {
          "base_uri": "https://localhost:8080/"
        },
        "id": "0V3SafrumYJH",
        "outputId": "c7c8ab88-4abc-4215-ddb2-cb303995bf3e"
      },
      "source": [
        "from sklearn.linear_model import LinearRegression  \r\n",
        "reg = LinearRegression()  \r\n",
        "reg.fit(X_train, y_train)\r\n",
        "print(\"Done!\")"
      ],
      "execution_count": 5,
      "outputs": [
        {
          "output_type": "stream",
          "text": [
            "Done!\n"
          ],
          "name": "stdout"
        }
      ]
    },
    {
      "cell_type": "markdown",
      "metadata": {
        "id": "FzKB3fmWr1k7"
      },
      "source": [
        "**Now, we plot the regression line!**"
      ]
    },
    {
      "cell_type": "code",
      "metadata": {
        "colab": {
          "base_uri": "https://localhost:8080/",
          "height": 265
        },
        "id": "ODW7aKnnmcVQ",
        "outputId": "fb091a8e-9c01-4592-e41d-cf5d9ae7ed4d"
      },
      "source": [
        "line = reg.coef_*x+reg.intercept_\r\n",
        "# Plotting for the test data\r\n",
        "plt.scatter(x, y, c='red')\r\n",
        "plt.plot(x, line);\r\n",
        "plt.show()"
      ],
      "execution_count": 6,
      "outputs": [
        {
          "output_type": "display_data",
          "data": {
            "image/png": "[encoded data removed]",
            "text/plain": [
              "<Figure size 432x288 with 1 Axes>"
            ]
          },
          "metadata": {
            "tags": [],
            "needs_background": "light"
          }
        }
      ]
    },
    {
      "cell_type": "markdown",
      "metadata": {
        "id": "r7h5SOA2pxpD"
      },
      "source": [
        "#Predictions!\r\n",
        "We have finished training the data. \r\n",
        "\r\n",
        "Now, we shall make predictions and compare this predicted value to the actual scores from the students"
      ]
    },
    {
      "cell_type": "code",
      "metadata": {
        "colab": {
          "base_uri": "https://localhost:8080/"
        },
        "id": "OX36ThxFp033",
        "outputId": "6913bc82-be70-41b1-b55f-a13ef57acb79"
      },
      "source": [
        "print(X_test) # Testing data - In Hours\r\n",
        "y_pred = reg.predict(X_test) # Predicting the scores"
      ],
      "execution_count": 7,
      "outputs": [
        {
          "output_type": "stream",
          "text": [
            "    Hours\n",
            "5     1.5\n",
            "2     3.2\n",
            "19    7.4\n",
            "16    2.5\n",
            "11    5.9\n"
          ],
          "name": "stdout"
        }
      ]
    },
    {
      "cell_type": "code",
      "metadata": {
        "colab": {
          "base_uri": "https://localhost:8080/",
          "height": 289
        },
        "id": "-0TvEOUtqnLi",
        "outputId": "87d7df60-6a6c-406b-d9de-ef4cef4ebb5f"
      },
      "source": [
        "y_predicted=reg.predict(X_test)\r\n",
        "print(y_predicted)\r\n",
        "y_test"
      ],
      "execution_count": 8,
      "outputs": [
        {
          "output_type": "stream",
          "text": [
            "[[16.88414476]\n",
            " [33.73226078]\n",
            " [75.357018  ]\n",
            " [26.79480124]\n",
            " [60.49103328]]\n"
          ],
          "name": "stdout"
        },
        {
          "output_type": "execute_result",
          "data": {
            "text/html": [
              "<div>\n",
              "<style scoped>\n",
              "    .dataframe tbody tr th:only-of-type {\n",
              "        vertical-align: middle;\n",
              "    }\n",
              "\n",
              "    .dataframe tbody tr th {\n",
              "        vertical-align: top;\n",
              "    }\n",
              "\n",
              "    .dataframe thead th {\n",
              "        text-align: right;\n",
              "    }\n",
              "</style>\n",
              "<table border=\"1\" class=\"dataframe\">\n",
              "  <thead>\n",
              "    <tr style=\"text-align: right;\">\n",
              "      <th></th>\n",
              "      <th>Scores</th>\n",
              "    </tr>\n",
              "  </thead>\n",
              "  <tbody>\n",
              "    <tr>\n",
              "      <th>5</th>\n",
              "      <td>20</td>\n",
              "    </tr>\n",
              "    <tr>\n",
              "      <th>2</th>\n",
              "      <td>27</td>\n",
              "    </tr>\n",
              "    <tr>\n",
              "      <th>19</th>\n",
              "      <td>69</td>\n",
              "    </tr>\n",
              "    <tr>\n",
              "      <th>16</th>\n",
              "      <td>30</td>\n",
              "    </tr>\n",
              "    <tr>\n",
              "      <th>11</th>\n",
              "      <td>62</td>\n",
              "    </tr>\n",
              "  </tbody>\n",
              "</table>\n",
              "</div>"
            ],
            "text/plain": [
              "    Scores\n",
              "5       20\n",
              "2       27\n",
              "19      69\n",
              "16      30\n",
              "11      62"
            ]
          },
          "metadata": {
            "tags": []
          },
          "execution_count": 8
        }
      ]
    },
    {
      "cell_type": "markdown",
      "metadata": {
        "id": "qAV-zllwDqpp"
      },
      "source": [
        "In the previous output block, the array displayed is the predicted scores, and the table under displays the actual scores~"
      ]
    },
    {
      "cell_type": "markdown",
      "metadata": {
        "id": "G-LQXjhoDZ7g"
      },
      "source": [
        "#Mean Absolute Error and Accuracy Rate"
      ]
    },
    {
      "cell_type": "code",
      "metadata": {
        "colab": {
          "base_uri": "https://localhost:8080/"
        },
        "id": "sbIpVg2suohd",
        "outputId": "1a176e37-182f-4396-b080-0a098fed4664"
      },
      "source": [
        "from sklearn import metrics  \r\n",
        "print('Mean Absolute Error:', metrics.mean_absolute_error(y_test, y_predicted))"
      ],
      "execution_count": 9,
      "outputs": [
        {
          "output_type": "stream",
          "text": [
            "Mean Absolute Error: 4.183859899002982\n"
          ],
          "name": "stdout"
        }
      ]
    },
    {
      "cell_type": "code",
      "metadata": {
        "colab": {
          "base_uri": "https://localhost:8080/"
        },
        "id": "FNjee8qADjib",
        "outputId": "02dcbb91-f4be-42f8-abb6-9cdbbbe9b3c8"
      },
      "source": [
        "reg.score(X_test,y_test)"
      ],
      "execution_count": 10,
      "outputs": [
        {
          "output_type": "execute_result",
          "data": {
            "text/plain": [
              "0.9454906892105354"
            ]
          },
          "metadata": {
            "tags": []
          },
          "execution_count": 10
        }
      ]
    },
    {
      "cell_type": "markdown",
      "metadata": {
        "id": "ZRfVi6c3_AHr"
      },
      "source": [
        "#Tasks given:\r\n",
        "What will be predicted score if a student studies for 9.25 hrs/ day? \r\n",
        "Let's look that up and find out~"
      ]
    },
    {
      "cell_type": "code",
      "metadata": {
        "colab": {
          "base_uri": "https://localhost:8080/"
        },
        "id": "1T4pLDvx_CkB",
        "outputId": "d8944abe-7924-4b14-8321-0fbeed673a9b"
      },
      "source": [
        "x=float(reg.predict([[9.25]]))\r\n",
        "print(\"The predicted score for a student that studied for 9.25hrs/day is\", x)"
      ],
      "execution_count": 11,
      "outputs": [
        {
          "output_type": "stream",
          "text": [
            "The predicted score for a student that studied for 9.25hrs/day is 93.69173248737539\n"
          ],
          "name": "stdout"
        }
      ]
    },
    {
      "cell_type": "markdown",
      "metadata": {
        "id": "bdLG5j7aDFnc"
      },
      "source": [
        "That's it folks!\r\n",
        "Thank you! :)\r\n"
      ]
    }
  ]
}